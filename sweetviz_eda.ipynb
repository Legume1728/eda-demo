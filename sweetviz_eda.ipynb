{
 "cells": [
  {
   "cell_type": "code",
   "execution_count": 1,
   "id": "4c0c3669-8c52-4975-874c-d1b41fcacb76",
   "metadata": {},
   "outputs": [],
   "source": [
    "import pandas as pd\n",
    "import matplotlib.pyplot as plt\n",
    "import seaborn as sns\n",
    "import warnings\n",
    "import sweetviz as sv\n",
    "import time\n",
    "\n",
    "warnings.filterwarnings('ignore')"
   ]
  },
  {
   "cell_type": "code",
   "execution_count": 2,
   "id": "b42c0e20-e9a5-481e-90f0-b847a7a5d3bd",
   "metadata": {},
   "outputs": [],
   "source": [
    "df = pd.read_csv('goodreads_dataset/Good_Reads_Book_Awards_Crawl_2023_12_27_11_14.csv')\n",
    "df.drop(['source_URL', 'Book Description', 'About the Author'], axis=1, inplace=True)\n",
    "numeric_columns = ['Number of Ratings','Number of Reviews']\n",
    "\n",
    "# Remove the character comma from those columns and convert to Int32\n",
    "for column in numeric_columns:\n",
    "    df[column] = df[column].replace(',', '', regex=True).astype('int32')\n",
    "\n",
    "df['Kindle Version'] = df['Kindle Version and Price'].str.extract('([a-zA-Z ]+)', expand=False).str.strip()\n",
    "df['Kindle Version'] = df['Kindle Version'].astype('category')"
   ]
  },
  {
   "cell_type": "code",
   "execution_count": 3,
   "id": "8fdf1c75-8362-4583-87af-169ecfcf902c",
   "metadata": {},
   "outputs": [
    {
     "data": {
      "application/vnd.jupyter.widget-view+json": {
       "model_id": "a2eb377684674379a0146d2f6b1d5b18",
       "version_major": 2,
       "version_minor": 0
      },
      "text/plain": [
       "                                             | | [  0%]   00:00 -> (?"
      ]
     },
     "metadata": {},
     "output_type": "display_data"
    },
    {
     "name": "stdout",
     "output_type": "stream",
     "text": [
      "Report analyze.html was generated.\n",
      "elapsed: 1.7207419872283936\n"
     ]
    }
   ],
   "source": [
    "smaller_df = df[[\n",
    "    'Title', 'Author', 'Readers Choice Category', 'Total Avg Rating', 'Kindle Price', 'Number of Ratings','Number of Reviews', 'Kindle Version']]\n",
    "\n",
    "t0 = time.time()\n",
    "analyze_report = sv.analyze(smaller_df)\n",
    "analyze_report.show_html('analyze.html', open_browser=False)\n",
    "t1 = time.time()\n",
    "print(f'elapsed: {t1 - t0}') "
   ]
  },
  {
   "cell_type": "code",
   "execution_count": null,
   "id": "07592a22-c64c-4c73-bd35-94089ba65961",
   "metadata": {},
   "outputs": [],
   "source": []
  }
 ],
 "metadata": {
  "kernelspec": {
   "display_name": "Python 3 (ipykernel)",
   "language": "python",
   "name": "python3"
  },
  "language_info": {
   "codemirror_mode": {
    "name": "ipython",
    "version": 3
   },
   "file_extension": ".py",
   "mimetype": "text/x-python",
   "name": "python",
   "nbconvert_exporter": "python",
   "pygments_lexer": "ipython3",
   "version": "3.10.12"
  }
 },
 "nbformat": 4,
 "nbformat_minor": 5
}
