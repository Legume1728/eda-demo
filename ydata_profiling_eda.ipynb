{
 "cells": [
  {
   "cell_type": "code",
   "execution_count": 11,
   "id": "4c0c3669-8c52-4975-874c-d1b41fcacb76",
   "metadata": {},
   "outputs": [],
   "source": [
    "import pandas as pd\n",
    "import matplotlib.pyplot as plt\n",
    "import seaborn as sns\n",
    "import warnings\n",
    "from ydata_profiling import ProfileReport\n",
    "import time\n",
    "\n",
    "warnings.filterwarnings('ignore')"
   ]
  },
  {
   "cell_type": "code",
   "execution_count": 3,
   "id": "b42c0e20-e9a5-481e-90f0-b847a7a5d3bd",
   "metadata": {},
   "outputs": [],
   "source": [
    "df = pd.read_csv('goodreads_dataset/Good_Reads_Book_Awards_Crawl_2023_12_27_11_14.csv')\n",
    "df.drop(['source_URL', 'Book Description', 'About the Author'], axis=1, inplace=True)\n",
    "numeric_columns = ['Number of Ratings','Number of Reviews']\n",
    "\n",
    "# Remove the character comma from those columns and convert to Int32\n",
    "for column in numeric_columns:\n",
    "    df[column] = df[column].replace(',', '', regex=True).astype('int32')\n",
    "\n",
    "df['Kindle Version'] = df['Kindle Version and Price'].str.extract('([a-zA-Z ]+)', expand=False).str.strip()\n",
    "df['Kindle Version'] = df['Kindle Version'].astype('category')"
   ]
  },
  {
   "cell_type": "code",
   "execution_count": 12,
   "id": "8fdf1c75-8362-4583-87af-169ecfcf902c",
   "metadata": {},
   "outputs": [
    {
     "data": {
      "application/vnd.jupyter.widget-view+json": {
       "model_id": "c0e0231db443465ca9383047a3986059",
       "version_major": 2,
       "version_minor": 0
      },
      "text/plain": [
       "Summarize dataset:   0%|          | 0/5 [00:00<?, ?it/s]"
      ]
     },
     "metadata": {},
     "output_type": "display_data"
    },
    {
     "data": {
      "application/vnd.jupyter.widget-view+json": {
       "model_id": "b8acc57268c040aba1a8cf74fedad047",
       "version_major": 2,
       "version_minor": 0
      },
      "text/plain": [
       "Generate report structure:   0%|          | 0/1 [00:00<?, ?it/s]"
      ]
     },
     "metadata": {},
     "output_type": "display_data"
    },
    {
     "data": {
      "application/vnd.jupyter.widget-view+json": {
       "model_id": "1d5b2f76e0b1459fb7326c088b6f84f1",
       "version_major": 2,
       "version_minor": 0
      },
      "text/plain": [
       "Render HTML:   0%|          | 0/1 [00:00<?, ?it/s]"
      ]
     },
     "metadata": {},
     "output_type": "display_data"
    },
    {
     "data": {
      "application/vnd.jupyter.widget-view+json": {
       "model_id": "eccc8be103b94e37ab88aeee3699873e",
       "version_major": 2,
       "version_minor": 0
      },
      "text/plain": [
       "Export report to file:   0%|          | 0/1 [00:00<?, ?it/s]"
      ]
     },
     "metadata": {},
     "output_type": "display_data"
    },
    {
     "name": "stdout",
     "output_type": "stream",
     "text": [
      "elapsed: 4.344756364822388\n"
     ]
    }
   ],
   "source": [
    "smaller_df = df[['Title', 'Author', 'Readers Choice Category', 'Total Avg Rating', 'Kindle Price', 'Number of Ratings','Number of Reviews', 'Kindle Version']]\n",
    "\n",
    "t0 = time.time()\n",
    "profile = ProfileReport(smaller_df, title=\"Profiling Report\", explorative=True)\n",
    "profile.to_file(\"ydata_report.html\")\n",
    "t1 = time.time()\n",
    "print(f'elapsed: {t1 - t0}') "
   ]
  },
  {
   "cell_type": "code",
   "execution_count": 9,
   "id": "8bd2bcfe-8abd-4ebb-ae7b-05d50a05f290",
   "metadata": {},
   "outputs": [
    {
     "data": {
      "application/vnd.jupyter.widget-view+json": {
       "model_id": "8f3a8a869f6c4514a74cd99aaa00c2d1",
       "version_major": 2,
       "version_minor": 0
      },
      "text/plain": [
       "Summarize dataset:   0%|          | 0/5 [00:00<?, ?it/s]"
      ]
     },
     "metadata": {},
     "output_type": "display_data"
    },
    {
     "data": {
      "application/vnd.jupyter.widget-view+json": {
       "model_id": "f7485d795e33497cbb6fccbce308ba60",
       "version_major": 2,
       "version_minor": 0
      },
      "text/plain": [
       "Generate report structure:   0%|          | 0/1 [00:00<?, ?it/s]"
      ]
     },
     "metadata": {},
     "output_type": "display_data"
    },
    {
     "data": {
      "application/vnd.jupyter.widget-view+json": {
       "model_id": "2018bdba456349baa61f4bc5737b9574",
       "version_major": 2,
       "version_minor": 0
      },
      "text/plain": [
       "Render HTML:   0%|          | 0/1 [00:00<?, ?it/s]"
      ]
     },
     "metadata": {},
     "output_type": "display_data"
    },
    {
     "data": {
      "application/vnd.jupyter.widget-view+json": {
       "model_id": "73422e3256204cb1aeca1665395acd76",
       "version_major": 2,
       "version_minor": 0
      },
      "text/plain": [
       "Export report to file:   0%|          | 0/1 [00:00<?, ?it/s]"
      ]
     },
     "metadata": {},
     "output_type": "display_data"
    }
   ],
   "source": []
  },
  {
   "cell_type": "code",
   "execution_count": null,
   "id": "402032d2-ad3e-4c49-b9e2-aaff196d1306",
   "metadata": {},
   "outputs": [],
   "source": []
  }
 ],
 "metadata": {
  "kernelspec": {
   "display_name": "Python 3 (ipykernel)",
   "language": "python",
   "name": "python3"
  },
  "language_info": {
   "codemirror_mode": {
    "name": "ipython",
    "version": 3
   },
   "file_extension": ".py",
   "mimetype": "text/x-python",
   "name": "python",
   "nbconvert_exporter": "python",
   "pygments_lexer": "ipython3",
   "version": "3.10.12"
  }
 },
 "nbformat": 4,
 "nbformat_minor": 5
}
